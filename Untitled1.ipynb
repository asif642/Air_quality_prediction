{
  "cells": [
    {
      "cell_type": "code",
      "execution_count": 1,
      "metadata": {
        "colab": {
          "base_uri": "https://localhost:8080/"
        },
        "id": "LyzamVkQFYBZ",
        "outputId": "c2f6e735-0250-40a2-ce32-60593a273e09"
      },
      "outputs": [
        {
          "name": "stdout",
          "output_type": "stream",
          "text": [
            "PM2.5 Data:\n",
            "        date   pm25\n",
            "0 2025-01-01    278\n",
            "1 2025-01-02    248\n",
            "2 2025-01-03    195\n",
            "3 2025-01-04    239\n",
            "4 2025-01-05    303\n",
            "\n",
            "Weather Data:\n",
            "    name       date  tempmax  tempmin  temp  feelslikemax  feelslikemin  \\\n",
            "0  dhaka 2024-01-01     76.2     60.6  67.1          76.2          60.6   \n",
            "1  dhaka 2024-01-02     71.7     58.9  63.6          71.7          58.9   \n",
            "2  dhaka 2024-01-03     73.4     59.0  63.8          73.4          59.0   \n",
            "3  dhaka 2024-01-04     75.4     57.2  65.1          75.4          57.2   \n",
            "4  dhaka 2024-01-05     71.2     57.2  63.6          71.2          57.2   \n",
            "\n",
            "   feelslike   dew  humidity  ...  windspeed  winddir  sealevelpressure  \\\n",
            "0       67.1  60.7      80.7  ...        8.1    304.2            1015.6   \n",
            "1       63.6  57.9      82.2  ...        6.9    312.7            1015.9   \n",
            "2       63.8  57.9      81.8  ...        5.8    353.6            1015.8   \n",
            "3       65.1  59.2      82.1  ...        4.7     79.3            1015.4   \n",
            "4       63.6  59.7      87.6  ...        4.7     97.9            1016.2   \n",
            "\n",
            "   cloudcover  visibility  solarradiation  solarenergy  uvindex  severerisk  \\\n",
            "0        14.3         1.2           157.8         13.6        7          10   \n",
            "1        18.5         1.2           147.6         12.7        6          10   \n",
            "2        39.2         1.3           169.6         14.7        7          10   \n",
            "3        29.4         1.0           167.6         14.6        7          10   \n",
            "4        39.8         0.9           181.6         15.5        7          10   \n",
            "\n",
            "   moonphase  \n",
            "0       0.67  \n",
            "1       0.70  \n",
            "2       0.73  \n",
            "3       0.75  \n",
            "4       0.80  \n",
            "\n",
            "[5 rows x 24 columns]\n"
          ]
        }
      ],
      "source": [
        "import pandas as pd\n",
        "\n",
        "# Load PM2.5 data\n",
        "pm_df = pd.read_csv(\"dhaka-us consulate, bangladesh-air-quality.csv\", parse_dates=[\"date\"])\n",
        "\n",
        "# Load weather data\n",
        "weather_df = pd.read_csv(\"2024_all_data.csv\", parse_dates=[\"date\"])\n",
        "\n",
        "# Preview both\n",
        "print(\"PM2.5 Data:\")\n",
        "print(pm_df.head())\n",
        "print(\"\\nWeather Data:\")\n",
        "print(weather_df.head())\n"
      ]
    },
    {
      "cell_type": "code",
      "execution_count": 2,
      "metadata": {
        "colab": {
          "base_uri": "https://localhost:8080/",
          "height": 365
        },
        "id": "Ats82G1uGPwV",
        "outputId": "c5efbbfe-9fbc-4bf7-fe6e-8f0a65589706"
      },
      "outputs": [
        {
          "name": "stdout",
          "output_type": "stream",
          "text": [
            "✅ Merged Dataset:\n",
            "    name       date  tempmax  tempmin  temp  feelslikemax  feelslikemin  \\\n",
            "0  dhaka 2024-01-01     76.2     60.6  67.1          76.2          60.6   \n",
            "1  dhaka 2024-01-02     71.7     58.9  63.6          71.7          58.9   \n",
            "2  dhaka 2024-01-03     73.4     59.0  63.8          73.4          59.0   \n",
            "3  dhaka 2024-01-04     75.4     57.2  65.1          75.4          57.2   \n",
            "4  dhaka 2024-01-05     71.2     57.2  63.6          71.2          57.2   \n",
            "\n",
            "   feelslike   dew  humidity  ...  winddir  sealevelpressure  cloudcover  \\\n",
            "0       67.1  60.7      80.7  ...    304.2            1015.6        14.3   \n",
            "1       63.6  57.9      82.2  ...    312.7            1015.9        18.5   \n",
            "2       63.8  57.9      81.8  ...    353.6            1015.8        39.2   \n",
            "3       65.1  59.2      82.1  ...     79.3            1015.4        29.4   \n",
            "4       63.6  59.7      87.6  ...     97.9            1016.2        39.8   \n",
            "\n",
            "   visibility  solarradiation  solarenergy  uvindex  severerisk  moonphase  \\\n",
            "0         1.2           157.8         13.6        7          10       0.67   \n",
            "1         1.2           147.6         12.7        6          10       0.70   \n",
            "2         1.3           169.6         14.7        7          10       0.73   \n",
            "3         1.0           167.6         14.6        7          10       0.75   \n",
            "4         0.9           181.6         15.5        7          10       0.80   \n",
            "\n",
            "    pm25  \n",
            "0    249  \n",
            "1    256  \n",
            "2    225  \n",
            "3    268  \n",
            "4    226  \n",
            "\n",
            "[5 rows x 25 columns]\n"
          ]
        }
      ],
      "source": [
        "# Merge on 'date' column\n",
        "df = pd.merge( weather_df,pm_df, on=[\"date\"], how=\"inner\")\n",
        "\n",
        "# Drop missing values (optional)\n",
        "df.dropna(inplace=True)\n",
        "\n",
        "print(\"✅ Merged Dataset:\")\n",
        "print(df.head())\n"
      ]
    },
    {
      "cell_type": "code",
      "execution_count": 3,
      "metadata": {},
      "outputs": [],
      "source": [
        "df.to_csv(\"merged_weather_pm25.csv\", index=False)"
      ]
    }
  ],
  "metadata": {
    "colab": {
      "provenance": []
    },
    "kernelspec": {
      "display_name": ".venv",
      "language": "python",
      "name": "python3"
    },
    "language_info": {
      "codemirror_mode": {
        "name": "ipython",
        "version": 3
      },
      "file_extension": ".py",
      "mimetype": "text/x-python",
      "name": "python",
      "nbconvert_exporter": "python",
      "pygments_lexer": "ipython3",
      "version": "3.9.13"
    }
  },
  "nbformat": 4,
  "nbformat_minor": 0
}
